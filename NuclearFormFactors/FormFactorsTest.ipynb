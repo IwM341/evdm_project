{
 "cells": [
  {
   "cell_type": "code",
   "execution_count": 1,
   "id": "45648792",
   "metadata": {},
   "outputs": [],
   "source": [
    "import numpy as np\n",
    "import NuFF"
   ]
  },
  {
   "cell_type": "code",
   "execution_count": 2,
   "id": "76e2bcf8",
   "metadata": {},
   "outputs": [
    {
     "data": {
      "text/plain": [
       "dict_keys([('NN', 0), ('H', '1'), ('He', '3'), ('He', '4'), ('C', '12'), ('N', '14'), ('O', '16'), ('Ne', '20'), ('Mg', '24'), ('Na', '23'), ('Al', '27'), ('Si', '28'), ('S', '32'), ('Ar', '40'), ('Ca', '40'), ('Fe', '56'), ('Ni', '58')])"
      ]
     },
     "execution_count": 2,
     "metadata": {},
     "output_type": "execute_result"
    }
   ],
   "source": [
    "NuFF.get_elements()\n"
   ]
  },
  {
   "cell_type": "code",
   "execution_count": 3,
   "id": "838e3055",
   "metadata": {},
   "outputs": [],
   "source": [
    "import sympy as sp\n",
    "from IPython.display import display, Math, Latex"
   ]
  },
  {
   "cell_type": "code",
   "execution_count": 4,
   "metadata": {},
   "outputs": [],
   "source": [
    "AllowedNames_W = [\"W_Delta\",\"W_DeltaSigma_p\",\n",
    "                 \"W_M\", \"W_MPhi_pp\", \"W_Phi_pp\",\n",
    "                \"W_Phitild_pp\", \"W_Sigma_p\",\n",
    "                \"W_Sigma_pp\"]\n",
    "AllowedNames = [name[2:] for name in AllowedNames_W]\n",
    "NameMap = {\"Sigma_ppDelta\":\"DeltaSigma_p\",\n",
    "           #\"Sigma_pDelta\":\"DeltaSigma_p\",\n",
    "           \"Phi_t_p\":\"W_Phitild_pp\"}"
   ]
  },
  {
   "cell_type": "code",
   "execution_count": null,
   "id": "59d3b9f0",
   "metadata": {},
   "outputs": [],
   "source": [
    "for el, ms in NuFF.get_elements():\n",
    "    if(ms != 0):\n",
    "        print(\"*************\")\n",
    "        print(el + str(ms),\":\")\n",
    "        print(el,type(el),ms,type(ms))\n",
    "        for ff in NuFF.get_form_factors(el,ms):\n",
    "            #print(ff[1],\",\",ff[0],\":\")\n",
    "            RealName = ff[1] if(ff[1] in AllowedNames) else NameMap[ff[1]]\n",
    "            #print(\"RealName = \",RealName)\n",
    "            try:\n",
    "                #m_poly = (NuFF.ff_get_poly(ff[2]))\n",
    "                #display(Math(sp.latex(NuFF.ff_make_expr(ff[2]))))\n",
    "            except:\n",
    "                print(\"couldn't parse \",ff[2])"
   ]
  },
  {
   "cell_type": "code",
   "execution_count": 6,
   "metadata": {},
   "outputs": [],
   "source": [
    "SupportedElements = set([el for el,_ in NuFF.get_elements()])\n",
    "ElementList = [el for el,_ in NuFF.get_elements()]"
   ]
  },
  {
   "cell_type": "code",
   "execution_count": 7,
   "metadata": {},
   "outputs": [],
   "source": [
    "SupportedMassDict = dict(\n",
    "    [(el,[int(mass) for _,mass in filter(lambda X: X[0] == el,NuFF.get_elements())]) \n",
    "     for el in SupportedElements])"
   ]
  },
  {
   "cell_type": "code",
   "execution_count": 8,
   "metadata": {},
   "outputs": [],
   "source": [
    "m_str = str(SupportedMassDict)"
   ]
  },
  {
   "cell_type": "code",
   "execution_count": 9,
   "metadata": {},
   "outputs": [],
   "source": [
    "exec(\"SupMasD = \" + m_str)"
   ]
  },
  {
   "cell_type": "code",
   "execution_count": 10,
   "metadata": {},
   "outputs": [
    {
     "data": {
      "text/plain": [
       "['NN',\n",
       " 'H',\n",
       " 'He',\n",
       " 'He',\n",
       " 'C',\n",
       " 'N',\n",
       " 'O',\n",
       " 'Ne',\n",
       " 'Mg',\n",
       " 'Na',\n",
       " 'Al',\n",
       " 'Si',\n",
       " 'S',\n",
       " 'Ar',\n",
       " 'Ca',\n",
       " 'Fe',\n",
       " 'Ni']"
      ]
     },
     "execution_count": 10,
     "metadata": {},
     "output_type": "execute_result"
    }
   ],
   "source": [
    "ElementList"
   ]
  },
  {
   "cell_type": "code",
   "execution_count": 25,
   "id": "43f95b1b",
   "metadata": {},
   "outputs": [],
   "source": [
    "FF_Dict = dict([\n",
    "     (elem,\n",
    "          dict([\n",
    "              (mass,dict([\n",
    "                  (\"W_\" + ff[1]+ff[0],\n",
    "                   'parse_expr(' + str(NuFF.ff_make_expr(ff[2])) +')'\n",
    "                   )\n",
    "                  for ff in NuFF.get_form_factors(elem,str(mass))\n",
    "                  ]))\n",
    "              for mass in SupportedMassDict[elem]\n",
    "          ])\n",
    "      ) for elem in filter(lambda x: (x != 'NN'),SupportedElements)\n",
    "])"
   ]
  },
  {
   "cell_type": "code",
   "execution_count": 31,
   "metadata": {},
   "outputs": [
    {
     "data": {
      "text/plain": [
       "{12: {'W_M00': 2.864777625*(0.444444444444444*y - 1)**2,\n",
       "  'W_Phi_pp00': 0.0480805000000000,\n",
       "  'W_MPhi_pp00': 0.164948*y - 0.371134}}"
      ]
     },
     "execution_count": 31,
     "metadata": {},
     "output_type": "execute_result"
    }
   ],
   "source": [
    "FF_Dict['C']"
   ]
  },
  {
   "cell_type": "code",
   "execution_count": 40,
   "metadata": {},
   "outputs": [],
   "source": [
    "ff = (NuFF.get_form_factors('C','12')[2])\n",
    "#print(NuFF.ff_get_poly(NuFF.get_form_factors('He','4')))\n",
    "fe = NuFF.ff_make_expr(ff[2])"
   ]
  },
  {
   "cell_type": "code",
   "execution_count": 48,
   "metadata": {},
   "outputs": [
    {
     "name": "stdout",
     "output_type": "stream",
     "text": [
      "0.164948*y - 0.371134\n"
     ]
    }
   ],
   "source": [
    "print(fe.__str__())"
   ]
  },
  {
   "cell_type": "code",
   "execution_count": 20,
   "metadata": {},
   "outputs": [
    {
     "name": "stdout",
     "output_type": "stream",
     "text": [
      "[('00', 'M', '0.565882 C (2.25 - y)**2'), ('00', 'Phi_pp', '0.0480805 C '), ('00', 'MPhi_pp', 'C (-0.371134 + 0.164948 y) ')]\n"
     ]
    }
   ],
   "source": [
    "ff = (NuFF.get_form_factors('C','12'))\n",
    "print(ff)"
   ]
  },
  {
   "cell_type": "code",
   "execution_count": 35,
   "metadata": {},
   "outputs": [],
   "source": [
    "with open(\"form_factor_dict.txt\",'w') as f:\n",
    "    f.write(str(FF_Dict))"
   ]
  },
  {
   "cell_type": "code",
   "execution_count": 36,
   "metadata": {},
   "outputs": [],
   "source": [
    "with open(\"supported_elemtnts.txt\",'w') as f:\n",
    "    f.write(str(SupportedElements))"
   ]
  },
  {
   "cell_type": "code",
   "execution_count": 37,
   "metadata": {},
   "outputs": [],
   "source": [
    "with open(\"mass_dict.txt\",'w') as f:\n",
    "    f.write(str(SupportedMassDict))"
   ]
  },
  {
   "cell_type": "code",
   "execution_count": 39,
   "metadata": {},
   "outputs": [],
   "source": [
    "#to python\n",
    "with open(\"form_factors.py\",'w') as f:\n",
    "    f.write(\"Elements = \")\n",
    "    f.write(str(SupportedElements))\n",
    "    f.write(\"\\n\")\n",
    "    f.write(\"Masses = \")\n",
    "    f.write(str(SupportedMassDict))\n",
    "    f.write(\"\\n\")\n",
    "    f.write(\"FormFactors = \")\n",
    "    f.write(str(FF_Dict))\n",
    "    \n",
    "    "
   ]
  }
 ],
 "metadata": {
  "kernelspec": {
   "display_name": "Python 3 (ipykernel)",
   "language": "python",
   "name": "python3"
  },
  "language_info": {
   "codemirror_mode": {
    "name": "ipython",
    "version": 3
   },
   "file_extension": ".py",
   "mimetype": "text/x-python",
   "name": "python",
   "nbconvert_exporter": "python",
   "pygments_lexer": "ipython3",
   "version": "3.10.11"
  }
 },
 "nbformat": 4,
 "nbformat_minor": 5
}
