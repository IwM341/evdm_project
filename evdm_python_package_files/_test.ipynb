{
 "cells": [
  {
   "cell_type": "code",
   "execution_count": 15,
   "metadata": {},
   "outputs": [],
   "source": [
    "class progress_bar_jupiter():\n",
    "    \"\"\"\n",
    "    Class for logging progress in jupyter notebook\n",
    "    \"\"\"\n",
    "    def __init__(self,name='Progress'):\n",
    "        \"\"\"\n",
    "        init constructor:\n",
    "        name -- label\n",
    "        \"\"\"\n",
    "        self.inited = False\n",
    "        self.name = name\n",
    "        self.label = None\n",
    "        self.progress = None\n",
    "        self.max_count = None\n",
    "        self.index= None\n",
    "\n",
    "    def _progress_string(self):\n",
    "        m_name = self.name\n",
    "        m_percent = (self.index*100)/self.max_count\n",
    "        m_time = self._get_time() - self.start_time\n",
    "        s_prefix = \"\"\n",
    "        if (m_time < 1):\n",
    "            s_prefix = \"m\"\n",
    "            m_time = m_time*1000\n",
    "         \n",
    "        return f\"{m_name} : {m_percent:.2f}%, {self.index}/{self.max_count }, {m_time:.2f}{s_prefix}s\"\n",
    "\n",
    "    def _init_impl(self,max_count):\n",
    "        from ipywidgets import IntProgress, HTML, VBox\n",
    "        from IPython.display import display\n",
    "        self.progress = IntProgress(min=0, max=max_count, value=0)\n",
    "        self.index = 0\n",
    "        self.max_count = max_count\n",
    "        self.inited = True\n",
    "        try:\n",
    "            import time\n",
    "            self._get_time = time.time\n",
    "        except:\n",
    "            self._get_time = lambda: 0\n",
    "        self.start_time = self._get_time()\n",
    "\n",
    "        self.label = HTML(self._progress_string())\n",
    "        self.box = VBox(children=[self.label, self.progress])\n",
    "        display(self.box)\n",
    "    \n",
    "    def update(self,current_progress,full_progress):\n",
    "        \"\"\"\n",
    "        function, which updates current state\n",
    "        \"\"\"\n",
    "        if(self.inited):\n",
    "            self.index = current_progress\n",
    "            self.label.value = self._progress_string()\n",
    "            self.progress.value = self.index\n",
    "        else:\n",
    "            self._init_impl(full_progress)"
   ]
  }
 ],
 "metadata": {
  "kernelspec": {
   "display_name": "Python 3",
   "language": "python",
   "name": "python3"
  },
  "language_info": {
   "codemirror_mode": {
    "name": "ipython",
    "version": 3
   },
   "file_extension": ".py",
   "mimetype": "text/x-python",
   "name": "python",
   "nbconvert_exporter": "python",
   "pygments_lexer": "ipython3",
   "version": "3.10.11"
  }
 },
 "nbformat": 4,
 "nbformat_minor": 2
}
