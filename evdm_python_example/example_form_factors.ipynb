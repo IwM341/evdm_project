{
 "cells": [
  {
   "cell_type": "markdown",
   "metadata": {},
   "source": [
    "# Form Factors"
   ]
  },
  {
   "cell_type": "code",
   "execution_count": 26,
   "metadata": {},
   "outputs": [],
   "source": [
    "import evdm.ff as ff\n",
    "import evdm\n",
    "import sympy\n",
    "from IPython.display import display, Math"
   ]
  },
  {
   "cell_type": "markdown",
   "metadata": {},
   "source": [
    "For using specific scatter model,\n",
    "\n",
    "sum O-notated Potentials with coefficients.\n",
    "\n",
    "note: evdm.ff.O(n,$\\tau$), where $n$ - number of \n",
    "potential, and $\\tau$ - if 0, then isospin symmetryc operator, \n",
    "\n",
    "if 1 then antisymmetric"
   ]
  },
  {
   "cell_type": "code",
   "execution_count": 27,
   "metadata": {},
   "outputs": [
    {
     "data": {
      "text/latex": [
       "$\\displaystyle 2 O_{3}$"
      ],
      "text/plain": [
       "2*O_3"
      ]
     },
     "execution_count": 27,
     "metadata": {},
     "output_type": "execute_result"
    }
   ],
   "source": [
    "My_op = 2*ff.O(3,0)\n",
    "My_op"
   ]
  },
  {
   "cell_type": "code",
   "execution_count": 28,
   "metadata": {},
   "outputs": [
    {
     "data": {
      "text/latex": [
       "$\\displaystyle O_3 = i \\vec{S}_N  \\cdot  \\left(\\frac{\\vec{q}}{m_N}  \\times  \\vec{v}^{\\perp}\\right)$"
      ],
      "text/plain": [
       "<IPython.core.display.Math object>"
      ]
     },
     "metadata": {},
     "output_type": "display_data"
    }
   ],
   "source": [
    "display(Math(ff.O(3,0).latex()))"
   ]
  },
  {
   "cell_type": "markdown",
   "metadata": {},
   "source": [
    "For target nuclei we create instance of Nuclei class"
   ]
  },
  {
   "cell_type": "code",
   "execution_count": 29,
   "metadata": {},
   "outputs": [
    {
     "name": "stdout",
     "output_type": "stream",
     "text": [
      "Nucleus(A = 1, Z = 1) with name H\n",
      "Nucleus(A = 12, Z = 6) with name C\n"
     ]
    }
   ],
   "source": [
    "H_nuc = ff.Nucleus(1,1) \n",
    "H_nuc\n",
    "C_nuc = ff.Nucleus(A=12,name='C') \n",
    "C_nuc\n",
    "print(f'{H_nuc} with name {H_nuc.name}')\n",
    "print(f'{C_nuc} with name {C_nuc.name}')"
   ]
  },
  {
   "cell_type": "markdown",
   "metadata": {},
   "source": [
    "For Wimp we create a model with info about \n",
    "\n",
    "$m_{\\chi}, j_{\\chi}$ and all deltas $\\delta_i = m_{\\chi,i} - m_{\\chi,0}$ \n",
    "\n",
    "call method for Wimp returns in/out parameters i.e. \n",
    "\n",
    "wimp(i,j) will give wimp with mass $m_{\\chi}$ and $\\delta = \\delta_j-\\delta_i$"
   ]
  },
  {
   "cell_type": "code",
   "execution_count": 35,
   "metadata": {},
   "outputs": [
    {
     "data": {
      "text/plain": [
       "Wimps(mass = 100, deltas = [0],spin = 0.5)"
      ]
     },
     "execution_count": 35,
     "metadata": {},
     "output_type": "execute_result"
    }
   ],
   "source": [
    "MyWimp = evdm.WimpModel(100,0.5)\n",
    "MyWimp"
   ]
  },
  {
   "cell_type": "markdown",
   "metadata": {},
   "source": [
    "Creating scatter parametrs, containing nucleus, wimp masses, spins, operator \n",
    "\n",
    "and operator, wich should normalize initial operator, therefore\n",
    "\n",
    "for capture and scatter values rates will be normalized to factor:\n",
    "\n",
    "$$\\cfrac{1}{\\tau_{scat}} = \\sigma_{\\chi,p} \\overline{n}_p v_{esc} $$\n",
    "\n",
    "where ${n}_p$ – avarage nuclon concentration, \n",
    "\n",
    "$v_{esc}$ – escape velocity of celestial body \n",
    "\n",
    "$\\sigma_{\\chi,p}$ – elastic cross section of $\\chi + p$ \n",
    "with initial $|\\vec{v}\\chi - \\vec{v}_p| = $  norm_dv"
   ]
  },
  {
   "cell_type": "code",
   "execution_count": 43,
   "metadata": {},
   "outputs": [
    {
     "name": "stdout",
     "output_type": "stream",
     "text": [
      "ptre matrix:  0.159155*pi*VT2*q2/(m_N**2*(2*J + 1))\n",
      "Y0,Y1:  (0.0, 0.4598285863582282)\n",
      "FullExpr:  0.00679430322511965*pi*y*(0.01 - 0.0217472342883214*y)\n",
      "av_mat_el:  1.63583506875017e-5\n"
     ]
    },
    {
     "data": {
      "text/plain": [
       "Scatter(WimpScatter(m = 100, delta = 0, j = 0.5) + Nucleus(A = 12, Z = 6), op = 2*O_3)"
      ]
     },
     "execution_count": 43,
     "metadata": {},
     "output_type": "execute_result"
    }
   ],
   "source": [
    "ScatterMod1 = ff.ScatterModel(MyWimp(0,0),C_nuc,My_op,My_op,norm_dv = 0.1)\n",
    "ScatterMod1"
   ]
  },
  {
   "cell_type": "code",
   "execution_count": 44,
   "metadata": {},
   "outputs": [
    {
     "data": {
      "text/plain": [
       "(8.45818208361592, False, [0.0, 0.0, 0.8525892425652952])"
      ]
     },
     "execution_count": 44,
     "metadata": {},
     "output_type": "execute_result"
    }
   ],
   "source": [
    "ScatterMod1.coeffs"
   ]
  },
  {
   "cell_type": "code",
   "execution_count": 38,
   "metadata": {},
   "outputs": [
    {
     "data": {
      "text/latex": [
       "$\\displaystyle \\frac{0.192322 \\pi q_{2}^{2}}{m_{N}^{4} \\cdot \\left(2 J + 1\\right)}$"
      ],
      "text/plain": [
       "0.192322*pi*q2**2/(m_N**4*(2*J + 1))"
      ]
     },
     "execution_count": 38,
     "metadata": {},
     "output_type": "execute_result"
    }
   ],
   "source": [
    "ScatterMod1.matel"
   ]
  },
  {
   "cell_type": "code",
   "execution_count": 40,
   "metadata": {},
   "outputs": [
    {
     "data": {
      "text/latex": [
       "$\\displaystyle \\frac{0.159155 \\pi VT_{2} q_{2}}{m_{N}^{2} \\cdot \\left(2 J + 1\\right)}$"
      ],
      "text/plain": [
       "0.159155*pi*VT2*q2/(m_N**2*(2*J + 1))"
      ]
     },
     "execution_count": 40,
     "metadata": {},
     "output_type": "execute_result"
    }
   ],
   "source": [
    "ScatterMod1.norm_matel"
   ]
  },
  {
   "cell_type": "code",
   "execution_count": 41,
   "metadata": {},
   "outputs": [
    {
     "data": {
      "text/plain": [
       "8.45818208361592"
      ]
     },
     "execution_count": 41,
     "metadata": {},
     "output_type": "execute_result"
    }
   ],
   "source": [
    "C_nuc.b"
   ]
  }
 ],
 "metadata": {
  "kernelspec": {
   "display_name": "Python 3",
   "language": "python",
   "name": "python3"
  },
  "language_info": {
   "codemirror_mode": {
    "name": "ipython",
    "version": 3
   },
   "file_extension": ".py",
   "mimetype": "text/x-python",
   "name": "python",
   "nbconvert_exporter": "python",
   "pygments_lexer": "ipython3",
   "version": "3.10.11"
  }
 },
 "nbformat": 4,
 "nbformat_minor": 2
}
