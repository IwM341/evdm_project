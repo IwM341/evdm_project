{
 "cells": [
  {
   "cell_type": "markdown",
   "metadata": {},
   "source": [
    "# Example getting capture"
   ]
  },
  {
   "cell_type": "code",
   "execution_count": 1,
   "metadata": {},
   "outputs": [],
   "source": [
    "import evdm.ff as ff\n",
    "import evdm\n",
    "import numpy as np\n",
    "import sympy\n",
    "from IPython.display import display, Math\n",
    "import pandas as pd\n",
    "import matplotlib.pyplot as plt"
   ]
  },
  {
   "cell_type": "code",
   "execution_count": 2,
   "metadata": {},
   "outputs": [
    {
     "data": {
      "text/plain": [
       "<evdm.ff.O at 0x1d4d27d2dd0>"
      ]
     },
     "execution_count": 2,
     "metadata": {},
     "output_type": "execute_result"
    }
   ],
   "source": [
    "My_op = ff.O(1,0)\n",
    "My_op"
   ]
  },
  {
   "cell_type": "markdown",
   "metadata": {},
   "source": [
    "For target nuclei we create instance of Nuclei class"
   ]
  },
  {
   "cell_type": "code",
   "execution_count": 3,
   "metadata": {},
   "outputs": [
    {
     "name": "stdout",
     "output_type": "stream",
     "text": [
      "Nucleus(A = 1, Z = 1) with name H\n",
      "Nucleus(A = 12, Z = 6) with name C\n"
     ]
    }
   ],
   "source": [
    "H_nuc = ff.Nucleus(1,1)\n",
    "H_nuc\n",
    "C_nuc = ff.Nucleus(A=12,name='C') \n",
    "C_nuc\n",
    "print(f'{H_nuc} with name {H_nuc.name}')\n",
    "print(f'{C_nuc} with name {C_nuc.name}')"
   ]
  },
  {
   "cell_type": "code",
   "execution_count": 4,
   "metadata": {},
   "outputs": [
    {
     "data": {
      "text/plain": [
       "Wimps(mass = 100, deltas = [0],spin = 0.5)"
      ]
     },
     "execution_count": 4,
     "metadata": {},
     "output_type": "execute_result"
    }
   ],
   "source": [
    "MyWimp = evdm.WimpModel(wimp_mass = 100,wimp_spin = 0.5)\n",
    "MyWimp"
   ]
  },
  {
   "cell_type": "code",
   "execution_count": 5,
   "metadata": {},
   "outputs": [
    {
     "data": {
      "text/plain": [
       "Scatter(WimpScatter(m = 100, delta = 0, j = 0.5) + Nucleus(A = 12, Z = 6), op = O_1)"
      ]
     },
     "execution_count": 5,
     "metadata": {},
     "output_type": "execute_result"
    }
   ],
   "source": [
    "ScatterC = ff.ScatterModel(MyWimp(0,0),C_nuc,My_op,My_op,norm_dv = 0.1)\n",
    "ScatterC"
   ]
  },
  {
   "cell_type": "code",
   "execution_count": 6,
   "metadata": {},
   "outputs": [],
   "source": [
    "SunModel = pd.read_csv(\"solar_model.dat\",sep = '\\t')"
   ]
  },
  {
   "cell_type": "code",
   "execution_count": 7,
   "metadata": {},
   "outputs": [],
   "source": [
    "B = evdm.Body(SunModel['Rho'],Temp = SunModel['Temp']*evdm.K_to_GeV,velocity = 2e-3,dtype = 'float')\n",
    "grid = evdm.GridEL(\n",
    "    body = B,\n",
    "    ptypes = 1,\n",
    "    Ne = 20,\n",
    "    Nl_func = lambda t_e: 20*t_e,\n",
    "    RhoE = lambda te: 1-0.5*te, #optional\n",
    "    RhoL = lambda te,tl: 1, #optional\n",
    "    dtype = 'float')"
   ]
  },
  {
   "cell_type": "markdown",
   "metadata": {},
   "source": [
    "Creating capture object"
   ]
  },
  {
   "cell_type": "code",
   "execution_count": 8,
   "metadata": {},
   "outputs": [],
   "source": [
    "CaptureVec = evdm.Capture(grid)"
   ]
  },
  {
   "cell_type": "markdown",
   "metadata": {},
   "source": [
    "Fill capture with some event"
   ]
  },
  {
   "cell_type": "code",
   "execution_count": 9,
   "metadata": {},
   "outputs": [
    {
     "data": {
      "text/plain": [
       "(10476.232421875, 15567.8212890625)"
      ]
     },
     "execution_count": 9,
     "metadata": {},
     "output_type": "execute_result"
    }
   ],
   "source": [
    "evdm.CaptureCalc(CaptureVec,ScatterC,[1,1],1e-3,1e-3,10000,0.39)"
   ]
  },
  {
   "cell_type": "code",
   "execution_count": 10,
   "metadata": {},
   "outputs": [
    {
     "name": "stdout",
     "output_type": "stream",
     "text": [
      "10476.240234375\n"
     ]
    }
   ],
   "source": [
    "print(CaptureVec.count())#numer of captured particles per time"
   ]
  },
  {
   "cell_type": "code",
   "execution_count": 11,
   "metadata": {},
   "outputs": [
    {
     "data": {
      "text/plain": [
       "[( + W_m_0->0: 0.000000 [0.000000])]"
      ]
     },
     "execution_count": 11,
     "metadata": {},
     "output_type": "execute_result"
    }
   ],
   "source": [
    "CaptureVec.events"
   ]
  },
  {
   "cell_type": "code",
   "execution_count": 29,
   "metadata": {},
   "outputs": [],
   "source": [
    "def GetElementDense(m_body_model,m_body, element:evdm.ff.Nucleus):\n",
    "    el_name_num = (element.name+str(element.A))\n",
    "    if(el_name_num in m_body_model.columns):\n",
    "        rho_e = m_body_model[el_name_num]\n",
    "    elif(element.name in m_body_model.columns):\n",
    "        rho_e = m_body_model[element.name]\n",
    "    else:\n",
    "        raise ValueError(f\"no such element '{element}' in {m_body_model.columns}\")\n",
    "    \n",
    "    return np.array(rho_e)*(m_body_model['Rho']/element.A)"
   ]
  },
  {
   "cell_type": "code",
   "execution_count": 26,
   "metadata": {},
   "outputs": [
    {
     "data": {
      "text/plain": [
       "0.33333206742199056"
      ]
     },
     "execution_count": 26,
     "metadata": {},
     "output_type": "execute_result"
    }
   ],
   "source": [
    "(SunModel['Rho']*SunModel['Radius']**2*SunModel['Radius'][1]).sum()"
   ]
  },
  {
   "cell_type": "code",
   "execution_count": 13,
   "metadata": {},
   "outputs": [],
   "source": [
    "def TestCaptureMasses(m_grid,m_wimp_array,m_elements,m_table,m_body,m_operator): \n",
    "    X_plot_grid = [wimp.mass for wimp in m_wimp_array]\n",
    "    def capt_element(element,m_wimp:evdm.WimpModel):\n",
    "        Capt = evdm.Capture(m_grid)\n",
    "        n_e = GetElementDense(m_table,m_body,element)\n",
    "        scat_mod = ff.ScatterModel(m_wimp(0,0),element,m_operator,m_operator,2e-3)\n",
    "        print(f'scat mod = {scat_mod}')\n",
    "        print(f'factors = {scat_mod.coeffs}')\n",
    "        try:\n",
    "            return evdm.CaptureCalc(Capt,\n",
    "                                    ff.ScatterModel(m_wimp(0,0),element,m_operator,m_operator,1e-3),\n",
    "                                    n_e,0.73e-3,0.52e-3,100000)[0]\n",
    "        except Exception as e:\n",
    "            raise Exception(f\"error at element {element}\") from e\n",
    "    Y_plots = [[capt_element(el,m_wimp) for m_wimp in m_wimp_array] for el in m_elements]\n",
    "    return (X_plot_grid,Y_plots)\n",
    "\n",
    "def TestCaptureMasses_Old(m_grid,m_wimp_array,m_elements,m_table,m_body,m_operator): \n",
    "    X_plot_grid = [wimp.mass for wimp in m_wimp_array]\n",
    "    def capt_element(element,m_wimp:evdm.WimpModel):\n",
    "        Capt = evdm.Capture(m_grid)\n",
    "        n_e = GetElementDense(m_table,m_body,element)\n",
    "\n",
    "        try:\n",
    "            return evdm.CaptureCalc(Capt,\n",
    "                                    ff.ScatterModel_SimpleFF(m_wimp(0,0),element),\n",
    "                                    n_e,0.73e-3,0.52e-3,100000)[0]\n",
    "        except Exception as e:\n",
    "            raise Exception(f\"error at element {element}\") from e\n",
    "    Y_plots = [[capt_element(el,m_wimp) for m_wimp in m_wimp_array] for el in m_elements]\n",
    "    return (X_plot_grid,Y_plots)"
   ]
  },
  {
   "cell_type": "code",
   "execution_count": 31,
   "metadata": {},
   "outputs": [],
   "source": [
    "test_element = [evdm.ff.Nucleus(1,name = \"H\"),\n",
    "                evdm.ff.Nucleus(3,name = \"He\"),\n",
    "                evdm.ff.Nucleus(4,name = \"He\"),\n",
    "                evdm.ff.Nucleus(12,name = \"C\"),\n",
    "                evdm.ff.Nucleus(14,name = \"N\"),\n",
    "                evdm.ff.Nucleus(16,name = \"O\"),\n",
    "                evdm.ff.Nucleus(56,name = \"Fe\")]\n",
    "test_wimps = [evdm.WimpModel(10,0.5),\n",
    "              evdm.WimpModel(20,0.5),\n",
    "              evdm.WimpModel(40,0.5),\n",
    "              evdm.WimpModel(80,0.5),\n",
    "              evdm.WimpModel(100,0.5),\n",
    "              evdm.WimpModel(120,0.5),\n",
    "              evdm.WimpModel(160,0.5),\n",
    "              evdm.WimpModel(200,0.5)\n",
    "              ]"
   ]
  },
  {
   "cell_type": "code",
   "execution_count": 34,
   "metadata": {},
   "outputs": [
    {
     "name": "stdout",
     "output_type": "stream",
     "text": [
      "scat mod = Scatter(WimpScatter(m = 10, delta = 0, j = 0.5) + Nucleus(A = 1, Z = 1), op = O_1)\n",
      "factors = (7.297092311389389, False, [1.0])\n",
      "scat mod = Scatter(WimpScatter(m = 20, delta = 0, j = 0.5) + Nucleus(A = 1, Z = 1), op = O_1)\n",
      "factors = (7.297092311389389, False, [1.0])\n",
      "scat mod = Scatter(WimpScatter(m = 40, delta = 0, j = 0.5) + Nucleus(A = 1, Z = 1), op = O_1)\n",
      "factors = (7.297092311389389, False, [1.0])\n",
      "scat mod = Scatter(WimpScatter(m = 80, delta = 0, j = 0.5) + Nucleus(A = 1, Z = 1), op = O_1)\n",
      "factors = (7.297092311389389, False, [1.0])\n",
      "scat mod = Scatter(WimpScatter(m = 100, delta = 0, j = 0.5) + Nucleus(A = 1, Z = 1), op = O_1)\n",
      "factors = (7.297092311389389, False, [1.0])\n",
      "scat mod = Scatter(WimpScatter(m = 120, delta = 0, j = 0.5) + Nucleus(A = 1, Z = 1), op = O_1)\n",
      "factors = (7.297092311389389, False, [1.0])\n",
      "scat mod = Scatter(WimpScatter(m = 160, delta = 0, j = 0.5) + Nucleus(A = 1, Z = 1), op = O_1)\n",
      "factors = (7.297092311389389, False, [1.0])\n",
      "scat mod = Scatter(WimpScatter(m = 200, delta = 0, j = 0.5) + Nucleus(A = 1, Z = 1), op = O_1)\n",
      "factors = (7.297092311389389, False, [1.0])\n",
      "scat mod = Scatter(WimpScatter(m = 10, delta = 0, j = 0.5) + Nucleus(A = 3, Z = 2), op = O_1)\n",
      "factors = (7.450957925540969, False, [59.019057065163004])\n",
      "scat mod = Scatter(WimpScatter(m = 20, delta = 0, j = 0.5) + Nucleus(A = 3, Z = 2), op = O_1)\n",
      "factors = (7.450957925540969, False, [68.22654582064384])\n",
      "scat mod = Scatter(WimpScatter(m = 40, delta = 0, j = 0.5) + Nucleus(A = 3, Z = 2), op = O_1)\n",
      "factors = (7.450957925540969, False, [74.05723644846543])\n",
      "scat mod = Scatter(WimpScatter(m = 80, delta = 0, j = 0.5) + Nucleus(A = 3, Z = 2), op = O_1)\n",
      "factors = (7.450957925540969, False, [77.37190343322848])\n",
      "scat mod = Scatter(WimpScatter(m = 100, delta = 0, j = 0.5) + Nucleus(A = 3, Z = 2), op = O_1)\n",
      "factors = (7.450957925540969, False, [78.07118059917218])\n",
      "scat mod = Scatter(WimpScatter(m = 120, delta = 0, j = 0.5) + Nucleus(A = 3, Z = 2), op = O_1)\n",
      "factors = (7.450957925540969, False, [78.54448193422066])\n",
      "scat mod = Scatter(WimpScatter(m = 160, delta = 0, j = 0.5) + Nucleus(A = 3, Z = 2), op = O_1)\n",
      "factors = (7.450957925540969, False, [79.14428783179291])\n",
      "scat mod = Scatter(WimpScatter(m = 200, delta = 0, j = 0.5) + Nucleus(A = 3, Z = 2), op = O_1)\n",
      "factors = (7.450957925540969, False, [79.50860932878356])\n",
      "scat mod = Scatter(WimpScatter(m = 10, delta = 0, j = 0.5) + Nucleus(A = 4, Z = 2), op = O_1)\n",
      "factors = (7.602175801778122, False, [161.95136835172738])\n",
      "scat mod = Scatter(WimpScatter(m = 20, delta = 0, j = 0.5) + Nucleus(A = 4, Z = 2), op = O_1)\n",
      "factors = (7.602175801778122, False, [198.93469518922976])\n",
      "scat mod = Scatter(WimpScatter(m = 40, delta = 0, j = 0.5) + Nucleus(A = 4, Z = 2), op = O_1)\n",
      "factors = (7.602175801778122, False, [224.12893818549364])\n",
      "scat mod = Scatter(WimpScatter(m = 80, delta = 0, j = 0.5) + Nucleus(A = 4, Z = 2), op = O_1)\n",
      "factors = (7.602175801778122, False, [239.0865112145917])\n",
      "scat mod = Scatter(WimpScatter(m = 100, delta = 0, j = 0.5) + Nucleus(A = 4, Z = 2), op = O_1)\n",
      "factors = (7.602175801778122, False, [242.30197115674315])\n",
      "scat mod = Scatter(WimpScatter(m = 120, delta = 0, j = 0.5) + Nucleus(A = 4, Z = 2), op = O_1)\n",
      "factors = (7.602175801778122, False, [244.49029390898664])\n",
      "scat mod = Scatter(WimpScatter(m = 160, delta = 0, j = 0.5) + Nucleus(A = 4, Z = 2), op = O_1)\n",
      "factors = (7.602175801778122, False, [247.27743379818446])\n",
      "scat mod = Scatter(WimpScatter(m = 200, delta = 0, j = 0.5) + Nucleus(A = 4, Z = 2), op = O_1)\n",
      "factors = (7.602175801778122, False, [248.97795803511195])\n",
      "scat mod = Scatter(WimpScatter(m = 10, delta = 0, j = 0.5) + Nucleus(A = 12, Z = 6), op = O_1)\n",
      "factors = (8.45818208361592, False, [5490.809914462921, -4880.719923967037, 1084.604427548229])\n",
      "scat mod = Scatter(WimpScatter(m = 20, delta = 0, j = 0.5) + Nucleus(A = 12, Z = 6), op = O_1)\n",
      "factors = (8.45818208361592, False, [9305.23291920029, -8271.31815040025, 1838.070700088942])\n",
      "scat mod = Scatter(WimpScatter(m = 40, delta = 0, j = 0.5) + Nucleus(A = 12, Z = 6), op = O_1)\n",
      "factors = (8.45818208361592, False, [13227.795595106065, -11758.040528983156, 2612.8978953295873])\n",
      "scat mod = Scatter(WimpScatter(m = 80, delta = 0, j = 0.5) + Nucleus(A = 12, Z = 6), op = O_1)\n",
      "factors = (8.45818208361592, False, [16311.944463413416, -14499.506189700798, 3222.1124866001737])\n",
      "scat mod = Scatter(WimpScatter(m = 100, delta = 0, j = 0.5) + Nucleus(A = 12, Z = 6), op = O_1)\n",
      "factors = (8.45818208361592, False, [17068.13861595867, -15171.678769741024, 3371.484171053557])\n",
      "scat mod = Scatter(WimpScatter(m = 120, delta = 0, j = 0.5) + Nucleus(A = 12, Z = 6), op = O_1)\n",
      "factors = (8.45818208361592, False, [17603.98088031538, -15647.983004724761, 3477.3295566054994])\n",
      "scat mod = Scatter(WimpScatter(m = 160, delta = 0, j = 0.5) + Nucleus(A = 12, Z = 6), op = O_1)\n",
      "factors = (8.45818208361592, False, [18312.568481207756, -16277.838649962434, 3617.2974777694253])\n",
      "scat mod = Scatter(WimpScatter(m = 200, delta = 0, j = 0.5) + Nucleus(A = 12, Z = 6), op = O_1)\n",
      "factors = (8.45818208361592, False, [18759.8646031794, -16675.435202826116, 3705.652267294689])\n",
      "scat mod = Scatter(WimpScatter(m = 10, delta = 0, j = 0.5) + Nucleus(A = 14, Z = 7), op = O_1)\n",
      "factors = (8.609495201583755, False, [8589.392283450066, -8180.405071909388, 1964.7099486675966])\n",
      "scat mod = Scatter(WimpScatter(m = 20, delta = 0, j = 0.5) + Nucleus(A = 14, Z = 7), op = O_1)\n",
      "factors = (8.609495201583755, False, [15342.214575363156, -14611.689137594216, 3509.328787892033])\n",
      "scat mod = Scatter(WimpScatter(m = 40, delta = 0, j = 0.5) + Nucleus(A = 14, Z = 7), op = O_1)\n",
      "factors = (8.609495201583755, False, [22806.250082941107, -21720.321728604158, 5216.62824925233])\n",
      "scat mod = Scatter(WimpScatter(m = 80, delta = 0, j = 0.5) + Nucleus(A = 14, Z = 7), op = O_1)\n",
      "factors = (8.609495201583755, False, [29014.83099556107, -27633.278677236627, 6636.759066846407])\n",
      "scat mod = Scatter(WimpScatter(m = 100, delta = 0, j = 0.5) + Nucleus(A = 14, Z = 7), op = O_1)\n",
      "factors = (8.609495201583755, False, [30580.982048708167, -29124.856846652205, 6994.995418580289])\n",
      "scat mod = Scatter(WimpScatter(m = 120, delta = 0, j = 0.5) + Nucleus(A = 14, Z = 7), op = O_1)\n",
      "factors = (8.609495201583755, False, [31701.047926030795, -30191.590357168083, 7251.195682780469])\n",
      "scat mod = Scatter(WimpScatter(m = 160, delta = 0, j = 0.5) + Nucleus(A = 14, Z = 7), op = O_1)\n",
      "factors = (8.609495201583755, False, [33195.214165217345, -31614.61129717897, 7592.966459829427])\n",
      "scat mod = Scatter(WimpScatter(m = 200, delta = 0, j = 0.5) + Nucleus(A = 14, Z = 7), op = O_1)\n",
      "factors = (8.609495201583755, False, [34145.9969197351, -32520.122165779907, 7810.445447303531])\n",
      "scat mod = Scatter(WimpScatter(m = 10, delta = 0, j = 0.5) + Nucleus(A = 16, Z = 8), op = O_1)\n",
      "factors = (8.746403078822873, False, [12537.110846774536, -12695.774711253678, 3277.577183808643, -32.13436816285575, 0.08031905340592423])\n",
      "scat mod = Scatter(WimpScatter(m = 20, delta = 0, j = 0.5) + Nucleus(A = 16, Z = 8), op = O_1)\n",
      "factors = (8.746403078822873, False, [23443.116148694706, -23739.80136182275, 6128.73440662812, -60.087984736974406, 0.1501884222737587])\n",
      "scat mod = Scatter(WimpScatter(m = 40, delta = 0, j = 0.5) + Nucleus(A = 16, Z = 8), op = O_1)\n",
      "factors = (8.746403078822873, False, [36297.865100998344, -36757.23405925787, 9489.351727842763, -93.03650377959607, 0.23254242553962712])\n",
      "scat mod = Scatter(WimpScatter(m = 80, delta = 0, j = 0.5) + Nucleus(A = 16, Z = 8), op = O_1)\n",
      "factors = (8.746403078822873, False, [47562.44089659586, -48164.36910549065, 12434.250043265421, -121.90918666787505, 0.3047089777843533])\n",
      "scat mod = Scatter(WimpScatter(m = 100, delta = 0, j = 0.5) + Nucleus(A = 16, Z = 8), op = O_1)\n",
      "factors = (8.746403078822873, False, [50481.5681628312, -51120.439493520804, 13197.39755319656, -129.3913180324207, 0.32341037890148283])\n",
      "scat mod = Scatter(WimpScatter(m = 120, delta = 0, j = 0.5) + Nucleus(A = 16, Z = 8), op = O_1)\n",
      "factors = (8.746403078822873, False, [52587.933614083384, -53253.462129716594, 13748.064722703411, -134.79022721678606, 0.3369048180301792])\n",
      "scat mod = Scatter(WimpScatter(m = 160, delta = 0, j = 0.5) + Nucleus(A = 16, Z = 8), op = O_1)\n",
      "factors = (8.746403078822873, False, [55421.84067895102, -56123.23380900633, 14488.933113384819, -142.05392728889666, 0.35506025556857257])\n",
      "scat mod = Scatter(WimpScatter(m = 200, delta = 0, j = 0.5) + Nucleus(A = 16, Z = 8), op = O_1)\n",
      "factors = (8.746403078822873, False, [57239.31933691104, -57963.713634540334, 14964.076601720606, -146.71237922705157, 0.3667039402401789])\n",
      "scat mod = Scatter(WimpScatter(m = 10, delta = 0, j = 0.5) + Nucleus(A = 56, Z = 26), op = O_1)\n",
      "factors = (10.291855363278485, False, [300939.84634446277, -773843.6653589983, 736296.6094139362, -324523.00554551673, 69836.36638908157, -6929.853278966296, 253.38040293470814])\n",
      "scat mod = Scatter(WimpScatter(m = 20, delta = 0, j = 0.5) + Nucleus(A = 56, Z = 26), op = O_1)\n",
      "factors = (10.291855363278485, False, [819618.8155841554, -2107586.735865009, 2005326.1881303664, -883848.2662431278, 190201.46584046175, -18873.665969035737, 690.0892263627711])\n",
      "scat mod = Scatter(WimpScatter(m = 40, delta = 0, j = 0.5) + Nucleus(A = 56, Z = 26), op = O_1)\n",
      "factors = (10.291855363278485, False, [1925128.952957771, -4950321.013789482, 4710130.406343543, -2075991.7354428621, 446747.1241780994, -44330.65726968273, 1620.888545425045])\n",
      "scat mod = Scatter(WimpScatter(m = 80, delta = 0, j = 0.5) + Nucleus(A = 56, Z = 26), op = O_1)\n",
      "factors = (10.291855363278485, False, [3668111.9476396735, -9432267.707279792, 8974612.112037903, -3955563.6396614006, 851225.2964943578, -84466.9721100027, 3088.4168201465513])\n",
      "scat mod = Scatter(WimpScatter(m = 100, delta = 0, j = 0.5) + Nucleus(A = 56, Z = 26), op = O_1)\n",
      "factors = (10.291855363278485, False, [4306883.967151456, -11074820.81851508, 10537468.203938315, -4644393.045764928, 999459.2952007212, -99176.21193881174, 3626.2396231197827])\n",
      "scat mod = Scatter(WimpScatter(m = 120, delta = 0, j = 0.5) + Nucleus(A = 56, Z = 26), op = O_1)\n",
      "factors = (10.291855363278485, False, [4832360.446856253, -12426043.164289983, 11823128.959844168, -5211048.504019155, 1121401.8309309494, -111276.55341946046, 4068.671703077424])\n",
      "scat mod = Scatter(WimpScatter(m = 160, delta = 0, j = 0.5) + Nucleus(A = 56, Z = 26), op = O_1)\n",
      "factors = (10.291855363278485, False, [5639463.908303584, -14501447.629724042, 13797834.368013045, -6081400.65005991, 1308698.9726428348, -129862.02369438656, 4748.223456544601])\n",
      "scat mod = Scatter(WimpScatter(m = 200, delta = 0, j = 0.5) + Nucleus(A = 56, Z = 26), op = O_1)\n",
      "factors = (10.291855363278485, False, [6226700.8937416375, -16011482.365122963, 15234601.90329512, -6714656.477750181, 1444973.7058509127, -143384.54721029935, 5242.655635585937])\n"
     ]
    }
   ],
   "source": [
    "tests_capt = TestCaptureMasses(grid,test_wimps,test_element,SunModel,B,My_op)"
   ]
  },
  {
   "cell_type": "code",
   "execution_count": 36,
   "metadata": {},
   "outputs": [
    {
     "name": "stdout",
     "output_type": "stream",
     "text": [
      "0\n",
      "1\n",
      "2\n",
      "3\n",
      "4\n",
      "5\n",
      "6\n"
     ]
    },
    {
     "data": {
      "text/plain": [
       "<matplotlib.legend.Legend at 0x1d4ffc6cd00>"
      ]
     },
     "execution_count": 36,
     "metadata": {},
     "output_type": "execute_result"
    },
    {
     "data": {
      "image/png": "[encoded data removed]",
      "text/plain": [
       "<Figure size 640x480 with 1 Axes>"
      ]
     },
     "metadata": {},
     "output_type": "display_data"
    }
   ],
   "source": [
    "for i in range(len(tests_capt[1])):\n",
    "    print(i)\n",
    "    plt.plot(tests_capt[0],tests_capt[1][i]) \n",
    "plt.yscale('log')\n",
    "plt.legend([w.name+str(w.A) for w in test_element])\n"
   ]
  },
  {
   "cell_type": "code",
   "execution_count": 32,
   "metadata": {},
   "outputs": [
    {
     "name": "stdout",
     "output_type": "stream",
     "text": [
      "['H1', 'He3', 'He4', 'C12', 'N14', 'O16', 'Fe56']\n",
      "[0.9087325317903971, 68.58906747211141, 10.956825209886317, 15.89998066782164, 80.44613118159606, 42.588068617480396]\n"
     ]
    }
   ],
   "source": [
    "print([te.name + str(te.A) for te in test_element]) \n",
    "tests_vals = [tc[0]*(3/4/3.145926) for tc in tests_capt[1]]\n",
    "print(tests_vals)\n"
   ]
  }
 ],
 "metadata": {
  "kernelspec": {
   "display_name": "Python 3",
   "language": "python",
   "name": "python3"
  },
  "language_info": {
   "codemirror_mode": {
    "name": "ipython",
    "version": 3
   },
   "file_extension": ".py",
   "mimetype": "text/x-python",
   "name": "python",
   "nbconvert_exporter": "python",
   "pygments_lexer": "ipython3",
   "version": "3.10.11"
  }
 },
 "nbformat": 4,
 "nbformat_minor": 2
}
